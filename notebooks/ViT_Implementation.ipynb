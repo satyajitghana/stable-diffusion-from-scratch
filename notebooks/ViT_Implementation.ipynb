{
  "nbformat": 4,
  "nbformat_minor": 0,
  "metadata": {
    "colab": {
      "provenance": [],
      "authorship_tag": "ABX9TyPRFV+8CNZUp6MTnBxs3mV0",
      "include_colab_link": true
    },
    "kernelspec": {
      "name": "python3",
      "display_name": "Python 3"
    },
    "language_info": {
      "name": "python"
    },
    "accelerator": "GPU",
    "gpuClass": "standard",
    "widgets": {
      "application/vnd.jupyter.widget-state+json": {
        "7b4ea95dc4bb4ede9bd15861191048d1": {
          "model_module": "@jupyter-widgets/controls",
          "model_name": "HBoxModel",
          "model_module_version": "1.5.0",
          "state": {
            "_dom_classes": [],
            "_model_module": "@jupyter-widgets/controls",
            "_model_module_version": "1.5.0",
            "_model_name": "HBoxModel",
            "_view_count": null,
            "_view_module": "@jupyter-widgets/controls",
            "_view_module_version": "1.5.0",
            "_view_name": "HBoxView",
            "box_style": "",
            "children": [
              "IPY_MODEL_10c20d46a2a045ca8c4de4d0449bcc92",
              "IPY_MODEL_09c95d2d1a5d45d0b74a7095fe802789",
              "IPY_MODEL_800038f048ae4a19a0bddf1d2cc8d4f4"
            ],
            "layout": "IPY_MODEL_38804a60b4ab4b42b566dcc5a79a4ea6"
          }
        },
        "10c20d46a2a045ca8c4de4d0449bcc92": {
          "model_module": "@jupyter-widgets/controls",
          "model_name": "HTMLModel",
          "model_module_version": "1.5.0",
          "state": {
            "_dom_classes": [],
            "_model_module": "@jupyter-widgets/controls",
            "_model_module_version": "1.5.0",
            "_model_name": "HTMLModel",
            "_view_count": null,
            "_view_module": "@jupyter-widgets/controls",
            "_view_module_version": "1.5.0",
            "_view_name": "HTMLView",
            "description": "",
            "description_tooltip": null,
            "layout": "IPY_MODEL_860ffe8960be408d8f71a385536d6eab",
            "placeholder": "​",
            "style": "IPY_MODEL_21d44eb6ae5843fea3f2804d8fd7bd54",
            "value": "Sanity Checking DataLoader 0: 100%"
          }
        },
        "09c95d2d1a5d45d0b74a7095fe802789": {
          "model_module": "@jupyter-widgets/controls",
          "model_name": "FloatProgressModel",
          "model_module_version": "1.5.0",
          "state": {
            "_dom_classes": [],
            "_model_module": "@jupyter-widgets/controls",
            "_model_module_version": "1.5.0",
            "_model_name": "FloatProgressModel",
            "_view_count": null,
            "_view_module": "@jupyter-widgets/controls",
            "_view_module_version": "1.5.0",
            "_view_name": "ProgressView",
            "bar_style": "",
            "description": "",
            "description_tooltip": null,
            "layout": "IPY_MODEL_61b77318c03a4cfaa2880448cc9510db",
            "max": 2,
            "min": 0,
            "orientation": "horizontal",
            "style": "IPY_MODEL_0a8407fe05444674bd1c9c6fae3b35da",
            "value": 2
          }
        },
        "800038f048ae4a19a0bddf1d2cc8d4f4": {
          "model_module": "@jupyter-widgets/controls",
          "model_name": "HTMLModel",
          "model_module_version": "1.5.0",
          "state": {
            "_dom_classes": [],
            "_model_module": "@jupyter-widgets/controls",
            "_model_module_version": "1.5.0",
            "_model_name": "HTMLModel",
            "_view_count": null,
            "_view_module": "@jupyter-widgets/controls",
            "_view_module_version": "1.5.0",
            "_view_name": "HTMLView",
            "description": "",
            "description_tooltip": null,
            "layout": "IPY_MODEL_dda9f87dc2ce4d4fa3254cf5fd86a009",
            "placeholder": "​",
            "style": "IPY_MODEL_7a1715af458c48ee84e83489b714678b",
            "value": " 2/2 [00:00&lt;00:00,  8.92it/s]"
          }
        },
        "38804a60b4ab4b42b566dcc5a79a4ea6": {
          "model_module": "@jupyter-widgets/base",
          "model_name": "LayoutModel",
          "model_module_version": "1.2.0",
          "state": {
            "_model_module": "@jupyter-widgets/base",
            "_model_module_version": "1.2.0",
            "_model_name": "LayoutModel",
            "_view_count": null,
            "_view_module": "@jupyter-widgets/base",
            "_view_module_version": "1.2.0",
            "_view_name": "LayoutView",
            "align_content": null,
            "align_items": null,
            "align_self": null,
            "border": null,
            "bottom": null,
            "display": "inline-flex",
            "flex": null,
            "flex_flow": "row wrap",
            "grid_area": null,
            "grid_auto_columns": null,
            "grid_auto_flow": null,
            "grid_auto_rows": null,
            "grid_column": null,
            "grid_gap": null,
            "grid_row": null,
            "grid_template_areas": null,
            "grid_template_columns": null,
            "grid_template_rows": null,
            "height": null,
            "justify_content": null,
            "justify_items": null,
            "left": null,
            "margin": null,
            "max_height": null,
            "max_width": null,
            "min_height": null,
            "min_width": null,
            "object_fit": null,
            "object_position": null,
            "order": null,
            "overflow": null,
            "overflow_x": null,
            "overflow_y": null,
            "padding": null,
            "right": null,
            "top": null,
            "visibility": "hidden",
            "width": "100%"
          }
        },
        "860ffe8960be408d8f71a385536d6eab": {
          "model_module": "@jupyter-widgets/base",
          "model_name": "LayoutModel",
          "model_module_version": "1.2.0",
          "state": {
            "_model_module": "@jupyter-widgets/base",
            "_model_module_version": "1.2.0",
            "_model_name": "LayoutModel",
            "_view_count": null,
            "_view_module": "@jupyter-widgets/base",
            "_view_module_version": "1.2.0",
            "_view_name": "LayoutView",
            "align_content": null,
            "align_items": null,
            "align_self": null,
            "border": null,
            "bottom": null,
            "display": null,
            "flex": null,
            "flex_flow": null,
            "grid_area": null,
            "grid_auto_columns": null,
            "grid_auto_flow": null,
            "grid_auto_rows": null,
            "grid_column": null,
            "grid_gap": null,
            "grid_row": null,
            "grid_template_areas": null,
            "grid_template_columns": null,
            "grid_template_rows": null,
            "height": null,
            "justify_content": null,
            "justify_items": null,
            "left": null,
            "margin": null,
            "max_height": null,
            "max_width": null,
            "min_height": null,
            "min_width": null,
            "object_fit": null,
            "object_position": null,
            "order": null,
            "overflow": null,
            "overflow_x": null,
            "overflow_y": null,
            "padding": null,
            "right": null,
            "top": null,
            "visibility": null,
            "width": null
          }
        },
        "21d44eb6ae5843fea3f2804d8fd7bd54": {
          "model_module": "@jupyter-widgets/controls",
          "model_name": "DescriptionStyleModel",
          "model_module_version": "1.5.0",
          "state": {
            "_model_module": "@jupyter-widgets/controls",
            "_model_module_version": "1.5.0",
            "_model_name": "DescriptionStyleModel",
            "_view_count": null,
            "_view_module": "@jupyter-widgets/base",
            "_view_module_version": "1.2.0",
            "_view_name": "StyleView",
            "description_width": ""
          }
        },
        "61b77318c03a4cfaa2880448cc9510db": {
          "model_module": "@jupyter-widgets/base",
          "model_name": "LayoutModel",
          "model_module_version": "1.2.0",
          "state": {
            "_model_module": "@jupyter-widgets/base",
            "_model_module_version": "1.2.0",
            "_model_name": "LayoutModel",
            "_view_count": null,
            "_view_module": "@jupyter-widgets/base",
            "_view_module_version": "1.2.0",
            "_view_name": "LayoutView",
            "align_content": null,
            "align_items": null,
            "align_self": null,
            "border": null,
            "bottom": null,
            "display": null,
            "flex": "2",
            "flex_flow": null,
            "grid_area": null,
            "grid_auto_columns": null,
            "grid_auto_flow": null,
            "grid_auto_rows": null,
            "grid_column": null,
            "grid_gap": null,
            "grid_row": null,
            "grid_template_areas": null,
            "grid_template_columns": null,
            "grid_template_rows": null,
            "height": null,
            "justify_content": null,
            "justify_items": null,
            "left": null,
            "margin": null,
            "max_height": null,
            "max_width": null,
            "min_height": null,
            "min_width": null,
            "object_fit": null,
            "object_position": null,
            "order": null,
            "overflow": null,
            "overflow_x": null,
            "overflow_y": null,
            "padding": null,
            "right": null,
            "top": null,
            "visibility": null,
            "width": null
          }
        },
        "0a8407fe05444674bd1c9c6fae3b35da": {
          "model_module": "@jupyter-widgets/controls",
          "model_name": "ProgressStyleModel",
          "model_module_version": "1.5.0",
          "state": {
            "_model_module": "@jupyter-widgets/controls",
            "_model_module_version": "1.5.0",
            "_model_name": "ProgressStyleModel",
            "_view_count": null,
            "_view_module": "@jupyter-widgets/base",
            "_view_module_version": "1.2.0",
            "_view_name": "StyleView",
            "bar_color": null,
            "description_width": ""
          }
        },
        "dda9f87dc2ce4d4fa3254cf5fd86a009": {
          "model_module": "@jupyter-widgets/base",
          "model_name": "LayoutModel",
          "model_module_version": "1.2.0",
          "state": {
            "_model_module": "@jupyter-widgets/base",
            "_model_module_version": "1.2.0",
            "_model_name": "LayoutModel",
            "_view_count": null,
            "_view_module": "@jupyter-widgets/base",
            "_view_module_version": "1.2.0",
            "_view_name": "LayoutView",
            "align_content": null,
            "align_items": null,
            "align_self": null,
            "border": null,
            "bottom": null,
            "display": null,
            "flex": null,
            "flex_flow": null,
            "grid_area": null,
            "grid_auto_columns": null,
            "grid_auto_flow": null,
            "grid_auto_rows": null,
            "grid_column": null,
            "grid_gap": null,
            "grid_row": null,
            "grid_template_areas": null,
            "grid_template_columns": null,
            "grid_template_rows": null,
            "height": null,
            "justify_content": null,
            "justify_items": null,
            "left": null,
            "margin": null,
            "max_height": null,
            "max_width": null,
            "min_height": null,
            "min_width": null,
            "object_fit": null,
            "object_position": null,
            "order": null,
            "overflow": null,
            "overflow_x": null,
            "overflow_y": null,
            "padding": null,
            "right": null,
            "top": null,
            "visibility": null,
            "width": null
          }
        },
        "7a1715af458c48ee84e83489b714678b": {
          "model_module": "@jupyter-widgets/controls",
          "model_name": "DescriptionStyleModel",
          "model_module_version": "1.5.0",
          "state": {
            "_model_module": "@jupyter-widgets/controls",
            "_model_module_version": "1.5.0",
            "_model_name": "DescriptionStyleModel",
            "_view_count": null,
            "_view_module": "@jupyter-widgets/base",
            "_view_module_version": "1.2.0",
            "_view_name": "StyleView",
            "description_width": ""
          }
        },
        "c01cfab78cff4366b20ed0a82515fb4a": {
          "model_module": "@jupyter-widgets/controls",
          "model_name": "HBoxModel",
          "model_module_version": "1.5.0",
          "state": {
            "_dom_classes": [],
            "_model_module": "@jupyter-widgets/controls",
            "_model_module_version": "1.5.0",
            "_model_name": "HBoxModel",
            "_view_count": null,
            "_view_module": "@jupyter-widgets/controls",
            "_view_module_version": "1.5.0",
            "_view_name": "HBoxView",
            "box_style": "",
            "children": [
              "IPY_MODEL_d00c474f834143cc8cdfb5ffd49af94e",
              "IPY_MODEL_ad800bafb45e485a8592ab140aa3e476",
              "IPY_MODEL_6e424c211fa449ea910867abb2b863ee"
            ],
            "layout": "IPY_MODEL_886d47403cbb45f0bba39f136a0dc811"
          }
        },
        "d00c474f834143cc8cdfb5ffd49af94e": {
          "model_module": "@jupyter-widgets/controls",
          "model_name": "HTMLModel",
          "model_module_version": "1.5.0",
          "state": {
            "_dom_classes": [],
            "_model_module": "@jupyter-widgets/controls",
            "_model_module_version": "1.5.0",
            "_model_name": "HTMLModel",
            "_view_count": null,
            "_view_module": "@jupyter-widgets/controls",
            "_view_module_version": "1.5.0",
            "_view_name": "HTMLView",
            "description": "",
            "description_tooltip": null,
            "layout": "IPY_MODEL_c3f95e962c8b42289f77be460aeb4041",
            "placeholder": "​",
            "style": "IPY_MODEL_2c103c1aba004cdd8ea59b96ecca97a1",
            "value": "Testing DataLoader 0: 100%"
          }
        },
        "ad800bafb45e485a8592ab140aa3e476": {
          "model_module": "@jupyter-widgets/controls",
          "model_name": "FloatProgressModel",
          "model_module_version": "1.5.0",
          "state": {
            "_dom_classes": [],
            "_model_module": "@jupyter-widgets/controls",
            "_model_module_version": "1.5.0",
            "_model_name": "FloatProgressModel",
            "_view_count": null,
            "_view_module": "@jupyter-widgets/controls",
            "_view_module_version": "1.5.0",
            "_view_name": "ProgressView",
            "bar_style": "success",
            "description": "",
            "description_tooltip": null,
            "layout": "IPY_MODEL_a32b23ac28624e6e8a33dc88da757ec1",
            "max": 40,
            "min": 0,
            "orientation": "horizontal",
            "style": "IPY_MODEL_dcb94e76950a41aca243176dfa1c1ec7",
            "value": 40
          }
        },
        "6e424c211fa449ea910867abb2b863ee": {
          "model_module": "@jupyter-widgets/controls",
          "model_name": "HTMLModel",
          "model_module_version": "1.5.0",
          "state": {
            "_dom_classes": [],
            "_model_module": "@jupyter-widgets/controls",
            "_model_module_version": "1.5.0",
            "_model_name": "HTMLModel",
            "_view_count": null,
            "_view_module": "@jupyter-widgets/controls",
            "_view_module_version": "1.5.0",
            "_view_name": "HTMLView",
            "description": "",
            "description_tooltip": null,
            "layout": "IPY_MODEL_b1e734df46394e109e6884fced3b59bd",
            "placeholder": "​",
            "style": "IPY_MODEL_a853fbd177014490824a8afe6e6683fc",
            "value": " 40/40 [00:02&lt;00:00, 13.58it/s]"
          }
        },
        "886d47403cbb45f0bba39f136a0dc811": {
          "model_module": "@jupyter-widgets/base",
          "model_name": "LayoutModel",
          "model_module_version": "1.2.0",
          "state": {
            "_model_module": "@jupyter-widgets/base",
            "_model_module_version": "1.2.0",
            "_model_name": "LayoutModel",
            "_view_count": null,
            "_view_module": "@jupyter-widgets/base",
            "_view_module_version": "1.2.0",
            "_view_name": "LayoutView",
            "align_content": null,
            "align_items": null,
            "align_self": null,
            "border": null,
            "bottom": null,
            "display": "inline-flex",
            "flex": null,
            "flex_flow": "row wrap",
            "grid_area": null,
            "grid_auto_columns": null,
            "grid_auto_flow": null,
            "grid_auto_rows": null,
            "grid_column": null,
            "grid_gap": null,
            "grid_row": null,
            "grid_template_areas": null,
            "grid_template_columns": null,
            "grid_template_rows": null,
            "height": null,
            "justify_content": null,
            "justify_items": null,
            "left": null,
            "margin": null,
            "max_height": null,
            "max_width": null,
            "min_height": null,
            "min_width": null,
            "object_fit": null,
            "object_position": null,
            "order": null,
            "overflow": null,
            "overflow_x": null,
            "overflow_y": null,
            "padding": null,
            "right": null,
            "top": null,
            "visibility": null,
            "width": "100%"
          }
        },
        "c3f95e962c8b42289f77be460aeb4041": {
          "model_module": "@jupyter-widgets/base",
          "model_name": "LayoutModel",
          "model_module_version": "1.2.0",
          "state": {
            "_model_module": "@jupyter-widgets/base",
            "_model_module_version": "1.2.0",
            "_model_name": "LayoutModel",
            "_view_count": null,
            "_view_module": "@jupyter-widgets/base",
            "_view_module_version": "1.2.0",
            "_view_name": "LayoutView",
            "align_content": null,
            "align_items": null,
            "align_self": null,
            "border": null,
            "bottom": null,
            "display": null,
            "flex": null,
            "flex_flow": null,
            "grid_area": null,
            "grid_auto_columns": null,
            "grid_auto_flow": null,
            "grid_auto_rows": null,
            "grid_column": null,
            "grid_gap": null,
            "grid_row": null,
            "grid_template_areas": null,
            "grid_template_columns": null,
            "grid_template_rows": null,
            "height": null,
            "justify_content": null,
            "justify_items": null,
            "left": null,
            "margin": null,
            "max_height": null,
            "max_width": null,
            "min_height": null,
            "min_width": null,
            "object_fit": null,
            "object_position": null,
            "order": null,
            "overflow": null,
            "overflow_x": null,
            "overflow_y": null,
            "padding": null,
            "right": null,
            "top": null,
            "visibility": null,
            "width": null
          }
        },
        "2c103c1aba004cdd8ea59b96ecca97a1": {
          "model_module": "@jupyter-widgets/controls",
          "model_name": "DescriptionStyleModel",
          "model_module_version": "1.5.0",
          "state": {
            "_model_module": "@jupyter-widgets/controls",
            "_model_module_version": "1.5.0",
            "_model_name": "DescriptionStyleModel",
            "_view_count": null,
            "_view_module": "@jupyter-widgets/base",
            "_view_module_version": "1.2.0",
            "_view_name": "StyleView",
            "description_width": ""
          }
        },
        "a32b23ac28624e6e8a33dc88da757ec1": {
          "model_module": "@jupyter-widgets/base",
          "model_name": "LayoutModel",
          "model_module_version": "1.2.0",
          "state": {
            "_model_module": "@jupyter-widgets/base",
            "_model_module_version": "1.2.0",
            "_model_name": "LayoutModel",
            "_view_count": null,
            "_view_module": "@jupyter-widgets/base",
            "_view_module_version": "1.2.0",
            "_view_name": "LayoutView",
            "align_content": null,
            "align_items": null,
            "align_self": null,
            "border": null,
            "bottom": null,
            "display": null,
            "flex": "2",
            "flex_flow": null,
            "grid_area": null,
            "grid_auto_columns": null,
            "grid_auto_flow": null,
            "grid_auto_rows": null,
            "grid_column": null,
            "grid_gap": null,
            "grid_row": null,
            "grid_template_areas": null,
            "grid_template_columns": null,
            "grid_template_rows": null,
            "height": null,
            "justify_content": null,
            "justify_items": null,
            "left": null,
            "margin": null,
            "max_height": null,
            "max_width": null,
            "min_height": null,
            "min_width": null,
            "object_fit": null,
            "object_position": null,
            "order": null,
            "overflow": null,
            "overflow_x": null,
            "overflow_y": null,
            "padding": null,
            "right": null,
            "top": null,
            "visibility": null,
            "width": null
          }
        },
        "dcb94e76950a41aca243176dfa1c1ec7": {
          "model_module": "@jupyter-widgets/controls",
          "model_name": "ProgressStyleModel",
          "model_module_version": "1.5.0",
          "state": {
            "_model_module": "@jupyter-widgets/controls",
            "_model_module_version": "1.5.0",
            "_model_name": "ProgressStyleModel",
            "_view_count": null,
            "_view_module": "@jupyter-widgets/base",
            "_view_module_version": "1.2.0",
            "_view_name": "StyleView",
            "bar_color": null,
            "description_width": ""
          }
        },
        "b1e734df46394e109e6884fced3b59bd": {
          "model_module": "@jupyter-widgets/base",
          "model_name": "LayoutModel",
          "model_module_version": "1.2.0",
          "state": {
            "_model_module": "@jupyter-widgets/base",
            "_model_module_version": "1.2.0",
            "_model_name": "LayoutModel",
            "_view_count": null,
            "_view_module": "@jupyter-widgets/base",
            "_view_module_version": "1.2.0",
            "_view_name": "LayoutView",
            "align_content": null,
            "align_items": null,
            "align_self": null,
            "border": null,
            "bottom": null,
            "display": null,
            "flex": null,
            "flex_flow": null,
            "grid_area": null,
            "grid_auto_columns": null,
            "grid_auto_flow": null,
            "grid_auto_rows": null,
            "grid_column": null,
            "grid_gap": null,
            "grid_row": null,
            "grid_template_areas": null,
            "grid_template_columns": null,
            "grid_template_rows": null,
            "height": null,
            "justify_content": null,
            "justify_items": null,
            "left": null,
            "margin": null,
            "max_height": null,
            "max_width": null,
            "min_height": null,
            "min_width": null,
            "object_fit": null,
            "object_position": null,
            "order": null,
            "overflow": null,
            "overflow_x": null,
            "overflow_y": null,
            "padding": null,
            "right": null,
            "top": null,
            "visibility": null,
            "width": null
          }
        },
        "a853fbd177014490824a8afe6e6683fc": {
          "model_module": "@jupyter-widgets/controls",
          "model_name": "DescriptionStyleModel",
          "model_module_version": "1.5.0",
          "state": {
            "_model_module": "@jupyter-widgets/controls",
            "_model_module_version": "1.5.0",
            "_model_name": "DescriptionStyleModel",
            "_view_count": null,
            "_view_module": "@jupyter-widgets/base",
            "_view_module_version": "1.2.0",
            "_view_name": "StyleView",
            "description_width": ""
          }
        }
      }
    }
  },
  "cells": [
    {
      "cell_type": "markdown",
      "metadata": {
        "id": "view-in-github",
        "colab_type": "text"
      },
      "source": [
        "<a href=\"https://colab.research.google.com/github/satyajitghana/stable-diffusion-from-scratch/blob/master/notebooks/ViT_Implementation.ipynb\" target=\"_parent\"><img src=\"https://colab.research.google.com/assets/colab-badge.svg\" alt=\"Open In Colab\"/></a>"
      ]
    },
    {
      "cell_type": "code",
      "execution_count": 1,
      "metadata": {
        "colab": {
          "base_uri": "https://localhost:8080/"
        },
        "id": "IcqfRdG-FhVy",
        "outputId": "90ef023d-2de0-4333-e816-1a4f0edff062"
      },
      "outputs": [
        {
          "output_type": "stream",
          "name": "stdout",
          "text": [
            "--2023-01-29 13:34:19--  https://encrypted-tbn0.gstatic.com/images?q=tbn:ANd9GcSKr5wT7rfkjkGvNeqgXjBmarC5ZNoZs-H2uMpML8O7Q4F9W-IlUQibBT6IPqyvX45NOgw\n",
            "Resolving encrypted-tbn0.gstatic.com (encrypted-tbn0.gstatic.com)... 142.251.12.101, 142.251.12.139, 142.251.12.113, ...\n",
            "Connecting to encrypted-tbn0.gstatic.com (encrypted-tbn0.gstatic.com)|142.251.12.101|:443... connected.\n",
            "HTTP request sent, awaiting response... 200 OK\n",
            "Length: 6107 (6.0K) [image/jpeg]\n",
            "Saving to: ‘cat.jpg’\n",
            "\n",
            "\rcat.jpg               0%[                    ]       0  --.-KB/s               \rcat.jpg             100%[===================>]   5.96K  --.-KB/s    in 0s      \n",
            "\n",
            "2023-01-29 13:34:19 (76.4 MB/s) - ‘cat.jpg’ saved [6107/6107]\n",
            "\n"
          ]
        }
      ],
      "source": [
        "! wget -O cat.jpg https://encrypted-tbn0.gstatic.com/images?q=tbn:ANd9GcSKr5wT7rfkjkGvNeqgXjBmarC5ZNoZs-H2uMpML8O7Q4F9W-IlUQibBT6IPqyvX45NOgw&usqp=CAU"
      ]
    },
    {
      "cell_type": "code",
      "source": [
        "! pip install --quiet einops"
      ],
      "metadata": {
        "colab": {
          "base_uri": "https://localhost:8080/"
        },
        "id": "J88IlvZ6Fwcw",
        "outputId": "b7ae1e38-9a7d-43f0-916f-01ed8fa9c9d5"
      },
      "execution_count": 2,
      "outputs": [
        {
          "output_type": "stream",
          "name": "stdout",
          "text": [
            "\u001b[?25l     \u001b[90m━━━━━━━━━━━━━━━━━━━━━━━━━━━━━━━━━━━━━━━━\u001b[0m \u001b[32m0.0/41.6 KB\u001b[0m \u001b[31m?\u001b[0m eta \u001b[36m-:--:--\u001b[0m\r\u001b[2K     \u001b[90m━━━━━━━━━━━━━━━━━━━━━━━━━━━━━━━━━━━━━━━━\u001b[0m \u001b[32m41.6/41.6 KB\u001b[0m \u001b[31m1.9 MB/s\u001b[0m eta \u001b[36m0:00:00\u001b[0m\n",
            "\u001b[?25h"
          ]
        }
      ]
    },
    {
      "cell_type": "code",
      "source": [
        "import torch\n",
        "import torch.nn.functional as F\n",
        "import matplotlib.pyplot as plt\n",
        "import itertools\n",
        "\n",
        "import torch.nn as nn\n",
        "\n",
        "from PIL import Image\n",
        "import torchvision.transforms as T\n",
        "from einops import rearrange, reduce, repeat\n",
        "from einops.layers.torch import Rearrange, Reduce\n",
        "from torchsummary import summary"
      ],
      "metadata": {
        "id": "16Re6VsGFopo"
      },
      "execution_count": 3,
      "outputs": []
    },
    {
      "cell_type": "code",
      "source": [
        "img = Image.open(\"cat.jpg\")"
      ],
      "metadata": {
        "id": "-Gpm2d-vFuA5"
      },
      "execution_count": 4,
      "outputs": []
    },
    {
      "cell_type": "code",
      "source": [
        "img"
      ],
      "metadata": {
        "colab": {
          "base_uri": "https://localhost:8080/",
          "height": 241
        },
        "id": "AoSz9dhAF02m",
        "outputId": "f371bec5-b295-48ea-ffa0-74019832de38"
      },
      "execution_count": 5,
      "outputs": [
        {
          "output_type": "execute_result",
          "data": {
            "text/plain": [
              "<PIL.JpegImagePlugin.JpegImageFile image mode=RGB size=225x224 at 0x7FCDBFAAA280>"
            ],
            "image/png": "[encoded data removed]"
          },
          "metadata": {},
          "execution_count": 5
        }
      ]
    },
    {
      "cell_type": "code",
      "source": [
        "transforms = T.Compose([\n",
        "    T.Resize((224, 224)),\n",
        "    T.ToTensor()\n",
        "])"
      ],
      "metadata": {
        "id": "Jx2PdTM6F2Io"
      },
      "execution_count": 6,
      "outputs": []
    },
    {
      "cell_type": "code",
      "source": [
        "x = transforms(img)\n",
        "x = x[None, ...]\n",
        "x.shape"
      ],
      "metadata": {
        "colab": {
          "base_uri": "https://localhost:8080/"
        },
        "id": "oisAwqzCGFPC",
        "outputId": "b4a65031-3e41-4d27-f4e8-49f4c344439d"
      },
      "execution_count": 7,
      "outputs": [
        {
          "output_type": "execute_result",
          "data": {
            "text/plain": [
              "torch.Size([1, 3, 224, 224])"
            ]
          },
          "metadata": {},
          "execution_count": 7
        }
      ]
    },
    {
      "cell_type": "markdown",
      "source": [
        "## Patch Embedding"
      ],
      "metadata": {
        "id": "83-KOZC7GKcs"
      }
    },
    {
      "cell_type": "code",
      "source": [
        "patch_size = 16\n",
        "patches = rearrange(\n",
        "    x,\n",
        "    'b c (h s1) (w s2) -> b (h w) (s1 s2 c)',\n",
        "    s1=patch_size,\n",
        "    s2=patch_size\n",
        ")"
      ],
      "metadata": {
        "id": "51oiXfSmGI_f"
      },
      "execution_count": 8,
      "outputs": []
    },
    {
      "cell_type": "code",
      "source": [
        "patches.shape"
      ],
      "metadata": {
        "colab": {
          "base_uri": "https://localhost:8080/"
        },
        "id": "-eZEY2LhGNMi",
        "outputId": "6bbdaa02-65ba-48bd-8078-0b274002b11a"
      },
      "execution_count": 9,
      "outputs": [
        {
          "output_type": "execute_result",
          "data": {
            "text/plain": [
              "torch.Size([1, 196, 768])"
            ]
          },
          "metadata": {},
          "execution_count": 9
        }
      ]
    },
    {
      "cell_type": "code",
      "source": [
        "patches_d = rearrange(\n",
        "    x,\n",
        "    'b c (h s1) (w s2) -> b h w s1 s2 c',\n",
        "    s1 = 16,\n",
        "    s2 = 16\n",
        ")\n",
        "patches_d.shape"
      ],
      "metadata": {
        "colab": {
          "base_uri": "https://localhost:8080/"
        },
        "id": "OpNuRfOIGYzb",
        "outputId": "d12228ce-410c-4021-fa33-46255d099ea2"
      },
      "execution_count": 10,
      "outputs": [
        {
          "output_type": "execute_result",
          "data": {
            "text/plain": [
              "torch.Size([1, 14, 14, 16, 16, 3])"
            ]
          },
          "metadata": {},
          "execution_count": 10
        }
      ]
    },
    {
      "cell_type": "code",
      "source": [
        "fig, axes = plt.subplots(nrows=14, ncols=14, figsize=(20, 20))\n",
        "for i, j in itertools.product(range(14), repeat=2):\n",
        "    axes[i, j].imshow(patches_d[0, i, j])\n",
        "    axes[i, j].axis('off')\n",
        "    axes[i, j].set_title(f\"patch ({i},{j})\")\n",
        "fig.tight_layout()\n",
        "plt.show()"
      ],
      "metadata": {
        "colab": {
          "base_uri": "https://localhost:8080/",
          "height": 788
        },
        "id": "5TU6SCDBHp7D",
        "outputId": "dab37a1d-e448-4e5d-e0bc-29e6ab9d6f1a"
      },
      "execution_count": 11,
      "outputs": [
        {
          "output_type": "display_data",
          "data": {
            "text/plain": [
              "<Figure size 1440x1440 with 196 Axes>"
            ],
            "image/png": "[encoded data removed]"
          },
          "metadata": {
            "needs_background": "light"
          }
        }
      ]
    },
    {
      "cell_type": "code",
      "source": [
        "class PatchEmbedding(nn.Module):\n",
        "    def __init__(\n",
        "        self, in_channels = 3, patch_size = 16, emb_size = 768\n",
        "    ):\n",
        "        super(PatchEmbedding, self).__init__()\n",
        "        self.projection = nn.Sequential(\n",
        "            Rearrange('b c (h s1) (w s2) -> b (h w) (s1 s2 c)', s1=patch_size, s2=patch_size),\n",
        "            nn.Linear(patch_size * patch_size * in_channels, emb_size)\n",
        "        )\n",
        "\n",
        "    def forward(self, x):\n",
        "        x = self.projection(x)\n",
        "\n",
        "        return x"
      ],
      "metadata": {
        "id": "EfpblC2pLfwh"
      },
      "execution_count": 12,
      "outputs": []
    },
    {
      "cell_type": "code",
      "source": [
        "PatchEmbedding()(x).shape"
      ],
      "metadata": {
        "colab": {
          "base_uri": "https://localhost:8080/"
        },
        "id": "HDBYSJd0MaPA",
        "outputId": "b3db48ae-f671-4ac8-d9a0-8987f11c78c1"
      },
      "execution_count": 13,
      "outputs": [
        {
          "output_type": "execute_result",
          "data": {
            "text/plain": [
              "torch.Size([1, 196, 768])"
            ]
          },
          "metadata": {},
          "execution_count": 13
        }
      ]
    },
    {
      "cell_type": "markdown",
      "source": [
        "`CLS` Token"
      ],
      "metadata": {
        "id": "GLA8Vt_HMs0B"
      }
    },
    {
      "cell_type": "markdown",
      "source": [
        "think of this like, one patch is dedicated to `CLS` token, `16*16*3` in shape"
      ],
      "metadata": {
        "id": "U2v6HanpUFcP"
      }
    },
    {
      "cell_type": "code",
      "source": [
        "torch.randn(1, 1, 768).shape"
      ],
      "metadata": {
        "colab": {
          "base_uri": "https://localhost:8080/"
        },
        "id": "8F7_a5kzMchx",
        "outputId": "2fb9a98d-d0d6-40c4-a822-6d4e68ee7598"
      },
      "execution_count": 14,
      "outputs": [
        {
          "output_type": "execute_result",
          "data": {
            "text/plain": [
              "torch.Size([1, 1, 768])"
            ]
          },
          "metadata": {},
          "execution_count": 14
        }
      ]
    },
    {
      "cell_type": "markdown",
      "source": [
        "Positions"
      ],
      "metadata": {
        "id": "F5ppl7WiTxka"
      }
    },
    {
      "cell_type": "markdown",
      "source": [
        "Each of the patch is going to have a position, also the cls token patch."
      ],
      "metadata": {
        "id": "s9EwoQVcUMBL"
      }
    },
    {
      "cell_type": "code",
      "source": [
        "torch.randn((224 // 16) * (224 // 16) + 1, 786).shape"
      ],
      "metadata": {
        "colab": {
          "base_uri": "https://localhost:8080/"
        },
        "id": "YtizUzINTm5r",
        "outputId": "795a1e1f-d98b-4720-a76c-81a7292bb3a2"
      },
      "execution_count": 15,
      "outputs": [
        {
          "output_type": "execute_result",
          "data": {
            "text/plain": [
              "torch.Size([197, 786])"
            ]
          },
          "metadata": {},
          "execution_count": 15
        }
      ]
    },
    {
      "cell_type": "code",
      "source": [
        "class PatchEmbedding(nn.Module):\n",
        "    def __init__(\n",
        "        self, in_channels = 3, patch_size = 16, emb_size = 768, img_size = 224,\n",
        "    ):\n",
        "        super(PatchEmbedding, self).__init__()\n",
        "\n",
        "        assert img_size / patch_size % 1 == 0, \"img_size must be integer multiple of patch_size\"\n",
        "\n",
        "        self.projection = nn.Sequential(\n",
        "            Rearrange('b c (h s1) (w s2) -> b (h w) (s1 s2 c)', s1=patch_size, s2=patch_size),\n",
        "            nn.Linear(patch_size * patch_size * in_channels, emb_size)\n",
        "        )\n",
        "\n",
        "        self.cls_token = nn.Parameter(\n",
        "            torch.randn(1, 1, emb_size)\n",
        "        )\n",
        "\n",
        "        self.positional_emb = nn.Parameter(\n",
        "            torch.randn(\n",
        "                (img_size // patch_size) * (img_size // patch_size) + 1, # 14 x 14 patches + CLS patch\n",
        "                emb_size\n",
        "            )\n",
        "        )\n",
        "\n",
        "    def forward(self, x):\n",
        "        B, *_ = x.shape \n",
        "        x = self.projection(x)\n",
        "        # print(x.shape, )\n",
        "        cls_token = repeat(self.cls_token, '() p e -> b p e', b = B)\n",
        "\n",
        "        # print(cls_token.shape)\n",
        "\n",
        "        x = torch.cat([cls_token, x], dim=1)\n",
        "\n",
        "        x += self.positional_emb\n",
        "\n",
        "        return x"
      ],
      "metadata": {
        "id": "nqhxlPuKT7WD"
      },
      "execution_count": 50,
      "outputs": []
    },
    {
      "cell_type": "code",
      "source": [
        "patch_embedding = PatchEmbedding()(x)\n",
        "patch_embedding.shape"
      ],
      "metadata": {
        "colab": {
          "base_uri": "https://localhost:8080/"
        },
        "id": "_ISkHEtnVMcU",
        "outputId": "ad59b530-76cb-4032-fa00-72b9a56af35f"
      },
      "execution_count": 17,
      "outputs": [
        {
          "output_type": "execute_result",
          "data": {
            "text/plain": [
              "torch.Size([1, 197, 768])"
            ]
          },
          "metadata": {},
          "execution_count": 17
        }
      ]
    },
    {
      "cell_type": "markdown",
      "source": [
        "## MultiHeadAttention"
      ],
      "metadata": {
        "id": "iJ0PziyEV47M"
      }
    },
    {
      "cell_type": "code",
      "source": [
        "keys = nn.Linear(768, 768)\n",
        "queries = nn.Linear(768, 768)\n",
        "values = nn.Linear(768, 768)\n",
        "\n",
        "projection = nn.Linear(768, 768)"
      ],
      "metadata": {
        "id": "iWSXIcyAVPsU"
      },
      "execution_count": 18,
      "outputs": []
    },
    {
      "cell_type": "code",
      "source": [
        "energy = torch.matmul(queries(patch_embedding), keys(patch_embedding).permute(0, 2, 1))\n",
        "energy.shape"
      ],
      "metadata": {
        "colab": {
          "base_uri": "https://localhost:8080/"
        },
        "id": "qjkTmxnALyU9",
        "outputId": "4726700e-264d-449a-e77e-f0b374f84305"
      },
      "execution_count": 19,
      "outputs": [
        {
          "output_type": "execute_result",
          "data": {
            "text/plain": [
              "torch.Size([1, 197, 197])"
            ]
          },
          "metadata": {},
          "execution_count": 19
        }
      ]
    },
    {
      "cell_type": "code",
      "source": [
        "attention = F.softmax(energy, dim=-1)\n",
        "attention.shape"
      ],
      "metadata": {
        "colab": {
          "base_uri": "https://localhost:8080/"
        },
        "id": "xI0_vbtRXGDf",
        "outputId": "9e54b5f8-2466-4a69-af5c-03095d83b735"
      },
      "execution_count": 20,
      "outputs": [
        {
          "output_type": "execute_result",
          "data": {
            "text/plain": [
              "torch.Size([1, 197, 197])"
            ]
          },
          "metadata": {},
          "execution_count": 20
        }
      ]
    },
    {
      "cell_type": "code",
      "source": [
        "torch.sum(attention[0, 0, :])"
      ],
      "metadata": {
        "colab": {
          "base_uri": "https://localhost:8080/"
        },
        "id": "Scos89cJYj4p",
        "outputId": "e64be65f-3ce8-4726-c03e-d6d235e1726a"
      },
      "execution_count": 21,
      "outputs": [
        {
          "output_type": "execute_result",
          "data": {
            "text/plain": [
              "tensor(1., grad_fn=<SumBackward0>)"
            ]
          },
          "metadata": {},
          "execution_count": 21
        }
      ]
    },
    {
      "cell_type": "code",
      "source": [
        "attention.shape, values(patch_embedding).shape"
      ],
      "metadata": {
        "colab": {
          "base_uri": "https://localhost:8080/"
        },
        "id": "n22RT7BpZbKG",
        "outputId": "f075c51b-6c00-40e7-bb3f-14af6b308814"
      },
      "execution_count": 22,
      "outputs": [
        {
          "output_type": "execute_result",
          "data": {
            "text/plain": [
              "(torch.Size([1, 197, 197]), torch.Size([1, 197, 768]))"
            ]
          },
          "metadata": {},
          "execution_count": 22
        }
      ]
    },
    {
      "cell_type": "code",
      "source": [
        "out = torch.matmul(attention, values(patch_embedding))\n",
        "\n",
        "out.shape"
      ],
      "metadata": {
        "colab": {
          "base_uri": "https://localhost:8080/"
        },
        "id": "5If5DmrQYsvx",
        "outputId": "ea288466-0794-4a23-cb38-00ebb9c7b679"
      },
      "execution_count": 23,
      "outputs": [
        {
          "output_type": "execute_result",
          "data": {
            "text/plain": [
              "torch.Size([1, 197, 768])"
            ]
          },
          "metadata": {},
          "execution_count": 23
        }
      ]
    },
    {
      "cell_type": "code",
      "source": [
        "projection(out).shape"
      ],
      "metadata": {
        "colab": {
          "base_uri": "https://localhost:8080/"
        },
        "id": "CccXrED0ZUm9",
        "outputId": "106567dc-436b-486a-a6cf-3eb1508f28d6"
      },
      "execution_count": 24,
      "outputs": [
        {
          "output_type": "execute_result",
          "data": {
            "text/plain": [
              "torch.Size([1, 197, 768])"
            ]
          },
          "metadata": {},
          "execution_count": 24
        }
      ]
    },
    {
      "cell_type": "code",
      "source": [
        "class MultiHeadAttention(nn.Module):\n",
        "    def __init__(\n",
        "        self,\n",
        "        emb_size = 768,\n",
        "        num_heads = 8,\n",
        "        dropout = 0\n",
        "    ):\n",
        "        super(MultiHeadAttention, self).__init__()\n",
        "\n",
        "        self.num_heads = num_heads\n",
        "        self.emb_size = emb_size\n",
        "\n",
        "        self.query = nn.Linear(emb_size, emb_size)\n",
        "        self.key = nn.Linear(emb_size, emb_size)\n",
        "        self.value = nn.Linear(emb_size, emb_size)\n",
        "\n",
        "        self.projection = nn.Linear(emb_size, emb_size)\n",
        "\n",
        "        self.attn_dropout = nn.Dropout(dropout)\n",
        "\n",
        "        self.scaling = (self.emb_size // num_heads) ** -0.5\n",
        "\n",
        "    def forward(self, x, mask = None):\n",
        "        rearrange_heads = 'batch seq_len (num_head h_dim) -> batch num_head seq_len h_dim'\n",
        "\n",
        "        queries = rearrange(\n",
        "            self.query(x),\n",
        "            rearrange_heads,\n",
        "            num_head = self.num_heads\n",
        "        )\n",
        "        keys = rearrange(\n",
        "            self.key(x),\n",
        "            rearrange_heads,\n",
        "            num_head = self.num_heads\n",
        "        )\n",
        "\n",
        "        values = rearrange(\n",
        "            self.key(x),\n",
        "            rearrange_heads,\n",
        "            num_head = self.num_heads\n",
        "        )\n",
        "\n",
        "        energies = torch.einsum('bhqd, bhkd -> bhqk', queries, keys)\n",
        "\n",
        "        if mask is not None:\n",
        "            fill_value = torch.finfo(energies.dtype).min\n",
        "            energies.mask_fill(~mask, fill_value)\n",
        "\n",
        "        attention = F.softmax(energies, dim=-1) * self.scaling\n",
        "\n",
        "        attention = self.attn_dropout(attention)\n",
        "\n",
        "        out = torch.einsum('bhas, bhsd -> bhad', attention, values)\n",
        "\n",
        "        out = rearrange(out, 'batch num_head seq_length dim -> batch seq_length (num_head dim)')\n",
        "\n",
        "        out = self.projection(out)\n",
        "\n",
        "        return out\n"
      ],
      "metadata": {
        "id": "-Nk9wbR_Z0rp"
      },
      "execution_count": 25,
      "outputs": []
    },
    {
      "cell_type": "code",
      "source": [
        "MultiHeadAttention()(patch_embedding).shape"
      ],
      "metadata": {
        "colab": {
          "base_uri": "https://localhost:8080/"
        },
        "id": "2SSiYHnWi-Z-",
        "outputId": "5ebff0f6-bead-46ad-c516-a5a22d8138c8"
      },
      "execution_count": 26,
      "outputs": [
        {
          "output_type": "execute_result",
          "data": {
            "text/plain": [
              "torch.Size([1, 197, 768])"
            ]
          },
          "metadata": {},
          "execution_count": 26
        }
      ]
    },
    {
      "cell_type": "code",
      "source": [
        "class ResidualAdd(nn.Module):\n",
        "    def __init__(self, fn):\n",
        "        super(ResidualAdd, self).__init__()\n",
        "\n",
        "        self.fn = fn\n",
        "\n",
        "    def forward(self, x, **kwargs):\n",
        "        res = x\n",
        "\n",
        "        out = self.fn(x, **kwargs)\n",
        "\n",
        "        out += res\n",
        "\n",
        "        return out"
      ],
      "metadata": {
        "id": "QrF2QWmAnjzZ"
      },
      "execution_count": 27,
      "outputs": []
    },
    {
      "cell_type": "code",
      "source": [
        "FeedForwardBlock = lambda emb_size = 768, expansion = 4, drop_p = 0.: nn.Sequential(\n",
        "    nn.Linear(emb_size, expansion * emb_size),\n",
        "    nn.GELU(),\n",
        "    nn.Dropout(drop_p),\n",
        "    nn.Linear(expansion * emb_size, emb_size)\n",
        ")"
      ],
      "metadata": {
        "id": "2XV66lxHoy6C"
      },
      "execution_count": 28,
      "outputs": []
    },
    {
      "cell_type": "markdown",
      "source": [
        "## TransformerEncoderBlock"
      ],
      "metadata": {
        "id": "hGdnq5VGpX27"
      }
    },
    {
      "cell_type": "code",
      "source": [
        "class TransformerEncoderBlock(nn.Sequential):\n",
        "    def __init__(\n",
        "        self,\n",
        "        emb_size = 768,\n",
        "        drop_p = 0.,\n",
        "        forward_expansion = 4,\n",
        "        forward_drop_p = 0,\n",
        "        **kwargs\n",
        "    ):\n",
        "        super(TransformerEncoderBlock, self).__init__(\n",
        "            ResidualAdd(\n",
        "                nn.Sequential(\n",
        "                    nn.LayerNorm(emb_size),\n",
        "                    MultiHeadAttention(emb_size, **kwargs),\n",
        "                    nn.Dropout(drop_p)\n",
        "                )\n",
        "            ),\n",
        "            ResidualAdd(\n",
        "                nn.Sequential(\n",
        "                    nn.LayerNorm(emb_size),\n",
        "                    FeedForwardBlock(emb_size, expansion=forward_expansion, drop_p=forward_drop_p),\n",
        "                    nn.Dropout(drop_p)\n",
        "                )\n",
        "            )\n",
        "        )"
      ],
      "metadata": {
        "id": "55d2Fb82pV6f"
      },
      "execution_count": 29,
      "outputs": []
    },
    {
      "cell_type": "code",
      "source": [
        "TransformerEncoderBlock()(patch_embedding).shape"
      ],
      "metadata": {
        "colab": {
          "base_uri": "https://localhost:8080/"
        },
        "id": "NinCiXwfqTGY",
        "outputId": "58d9c18b-3897-4a33-823a-14e803dc6ee3"
      },
      "execution_count": 30,
      "outputs": [
        {
          "output_type": "execute_result",
          "data": {
            "text/plain": [
              "torch.Size([1, 197, 768])"
            ]
          },
          "metadata": {},
          "execution_count": 30
        }
      ]
    },
    {
      "cell_type": "code",
      "source": [
        "class TransformerEncoder(nn.Sequential):\n",
        "    def __init__(self, depth = 12, **kwargs):\n",
        "        super(TransformerEncoder, self).__init__(\n",
        "            *(TransformerEncoderBlock(**kwargs) for _ in range(depth))\n",
        "        )"
      ],
      "metadata": {
        "id": "lFpOAI3DqYSh"
      },
      "execution_count": 31,
      "outputs": []
    },
    {
      "cell_type": "code",
      "source": [
        "trans_out = TransformerEncoder()(patch_embedding)\n",
        "trans_out.shape"
      ],
      "metadata": {
        "colab": {
          "base_uri": "https://localhost:8080/"
        },
        "id": "wfsIEzX1qtRx",
        "outputId": "215fe148-2c37-4c4e-fc1f-be92731271d4"
      },
      "execution_count": 32,
      "outputs": [
        {
          "output_type": "execute_result",
          "data": {
            "text/plain": [
              "torch.Size([1, 197, 768])"
            ]
          },
          "metadata": {},
          "execution_count": 32
        }
      ]
    },
    {
      "cell_type": "markdown",
      "source": [
        "## Classification Head"
      ],
      "metadata": {
        "id": "A9EubLkYqySL"
      }
    },
    {
      "cell_type": "code",
      "source": [
        "class ClassificationHead(nn.Sequential):\n",
        "    def __init__(\n",
        "        self,\n",
        "        emb_size = 768,\n",
        "        num_classes = 1000\n",
        "    ):\n",
        "        super(\n",
        "            ClassificationHead,\n",
        "            self\n",
        "        ).__init__(\n",
        "            Reduce(\n",
        "                'batch_size seq_len emb_dim -> batch_size emb_dim',\n",
        "                reduction='mean'\n",
        "            ),\n",
        "            nn.LayerNorm(emb_size),\n",
        "            nn.Linear(emb_size, num_classes)\n",
        "        )"
      ],
      "metadata": {
        "id": "ZpXRT6CIqvpi"
      },
      "execution_count": 33,
      "outputs": []
    },
    {
      "cell_type": "code",
      "source": [
        "ClassificationHead()(trans_out).shape"
      ],
      "metadata": {
        "colab": {
          "base_uri": "https://localhost:8080/"
        },
        "id": "PvkBQ9G9rRq1",
        "outputId": "a12d2e83-fbdc-4906-8148-cf8c167a9c32"
      },
      "execution_count": 34,
      "outputs": [
        {
          "output_type": "execute_result",
          "data": {
            "text/plain": [
              "torch.Size([1, 1000])"
            ]
          },
          "metadata": {},
          "execution_count": 34
        }
      ]
    },
    {
      "cell_type": "markdown",
      "source": [
        "## ViT"
      ],
      "metadata": {
        "id": "_qWuhZA7rYlR"
      }
    },
    {
      "cell_type": "code",
      "source": [
        "class ViT(nn.Sequential):\n",
        "    def __init__(\n",
        "        self,\n",
        "        in_channels = 3,\n",
        "        patch_size = 16,\n",
        "        emb_size = 768,\n",
        "        img_size = 224,\n",
        "        depth = 12,\n",
        "        num_classes = 1000,\n",
        "        **kwargs\n",
        "    ):\n",
        "        super(ViT, self).__init__(\n",
        "            PatchEmbedding(\n",
        "                in_channels, patch_size, emb_size, img_size,\n",
        "            ),\n",
        "            TransformerEncoder(\n",
        "                depth, emb_size=emb_size, **kwargs\n",
        "            ),\n",
        "            ClassificationHead(\n",
        "                emb_size, num_classes\n",
        "            )\n",
        "        )"
      ],
      "metadata": {
        "id": "P9cAwlCerWkH"
      },
      "execution_count": 35,
      "outputs": []
    },
    {
      "cell_type": "code",
      "source": [
        "ViT()(x).shape"
      ],
      "metadata": {
        "colab": {
          "base_uri": "https://localhost:8080/"
        },
        "id": "ZQgTYTNOsGoz",
        "outputId": "db1de45e-776b-4724-c442-8ee8d8bc9716"
      },
      "execution_count": 36,
      "outputs": [
        {
          "output_type": "execute_result",
          "data": {
            "text/plain": [
              "torch.Size([1, 1000])"
            ]
          },
          "metadata": {},
          "execution_count": 36
        }
      ]
    },
    {
      "cell_type": "code",
      "source": [
        "summary(\n",
        "    ViT(),\n",
        "    input_size=(3, 224, 224),\n",
        "    device=\"cpu\"\n",
        ")"
      ],
      "metadata": {
        "colab": {
          "base_uri": "https://localhost:8080/"
        },
        "id": "Rq24yfxFsNQf",
        "outputId": "aa2b2189-3b87-4b5c-be9e-0e9343a22a9d"
      },
      "execution_count": 38,
      "outputs": [
        {
          "output_type": "stream",
          "name": "stdout",
          "text": [
            "----------------------------------------------------------------\n",
            "        Layer (type)               Output Shape         Param #\n",
            "================================================================\n",
            "         Rearrange-1             [-1, 196, 768]               0\n",
            "            Linear-2             [-1, 196, 768]         590,592\n",
            "    PatchEmbedding-3             [-1, 197, 768]               0\n",
            "         LayerNorm-4             [-1, 197, 768]           1,536\n",
            "            Linear-5             [-1, 197, 768]         590,592\n",
            "            Linear-6             [-1, 197, 768]         590,592\n",
            "            Linear-7             [-1, 197, 768]         590,592\n",
            "           Dropout-8          [-1, 8, 197, 197]               0\n",
            "            Linear-9             [-1, 197, 768]         590,592\n",
            "MultiHeadAttention-10             [-1, 197, 768]               0\n",
            "          Dropout-11             [-1, 197, 768]               0\n",
            "      ResidualAdd-12             [-1, 197, 768]               0\n",
            "        LayerNorm-13             [-1, 197, 768]           1,536\n",
            "           Linear-14            [-1, 197, 3072]       2,362,368\n",
            "             GELU-15            [-1, 197, 3072]               0\n",
            "          Dropout-16            [-1, 197, 3072]               0\n",
            "           Linear-17             [-1, 197, 768]       2,360,064\n",
            "          Dropout-18             [-1, 197, 768]               0\n",
            "      ResidualAdd-19             [-1, 197, 768]               0\n",
            "        LayerNorm-20             [-1, 197, 768]           1,536\n",
            "           Linear-21             [-1, 197, 768]         590,592\n",
            "           Linear-22             [-1, 197, 768]         590,592\n",
            "           Linear-23             [-1, 197, 768]         590,592\n",
            "          Dropout-24          [-1, 8, 197, 197]               0\n",
            "           Linear-25             [-1, 197, 768]         590,592\n",
            "MultiHeadAttention-26             [-1, 197, 768]               0\n",
            "          Dropout-27             [-1, 197, 768]               0\n",
            "      ResidualAdd-28             [-1, 197, 768]               0\n",
            "        LayerNorm-29             [-1, 197, 768]           1,536\n",
            "           Linear-30            [-1, 197, 3072]       2,362,368\n",
            "             GELU-31            [-1, 197, 3072]               0\n",
            "          Dropout-32            [-1, 197, 3072]               0\n",
            "           Linear-33             [-1, 197, 768]       2,360,064\n",
            "          Dropout-34             [-1, 197, 768]               0\n",
            "      ResidualAdd-35             [-1, 197, 768]               0\n",
            "        LayerNorm-36             [-1, 197, 768]           1,536\n",
            "           Linear-37             [-1, 197, 768]         590,592\n",
            "           Linear-38             [-1, 197, 768]         590,592\n",
            "           Linear-39             [-1, 197, 768]         590,592\n",
            "          Dropout-40          [-1, 8, 197, 197]               0\n",
            "           Linear-41             [-1, 197, 768]         590,592\n",
            "MultiHeadAttention-42             [-1, 197, 768]               0\n",
            "          Dropout-43             [-1, 197, 768]               0\n",
            "      ResidualAdd-44             [-1, 197, 768]               0\n",
            "        LayerNorm-45             [-1, 197, 768]           1,536\n",
            "           Linear-46            [-1, 197, 3072]       2,362,368\n",
            "             GELU-47            [-1, 197, 3072]               0\n",
            "          Dropout-48            [-1, 197, 3072]               0\n",
            "           Linear-49             [-1, 197, 768]       2,360,064\n",
            "          Dropout-50             [-1, 197, 768]               0\n",
            "      ResidualAdd-51             [-1, 197, 768]               0\n",
            "        LayerNorm-52             [-1, 197, 768]           1,536\n",
            "           Linear-53             [-1, 197, 768]         590,592\n",
            "           Linear-54             [-1, 197, 768]         590,592\n",
            "           Linear-55             [-1, 197, 768]         590,592\n",
            "          Dropout-56          [-1, 8, 197, 197]               0\n",
            "           Linear-57             [-1, 197, 768]         590,592\n",
            "MultiHeadAttention-58             [-1, 197, 768]               0\n",
            "          Dropout-59             [-1, 197, 768]               0\n",
            "      ResidualAdd-60             [-1, 197, 768]               0\n",
            "        LayerNorm-61             [-1, 197, 768]           1,536\n",
            "           Linear-62            [-1, 197, 3072]       2,362,368\n",
            "             GELU-63            [-1, 197, 3072]               0\n",
            "          Dropout-64            [-1, 197, 3072]               0\n",
            "           Linear-65             [-1, 197, 768]       2,360,064\n",
            "          Dropout-66             [-1, 197, 768]               0\n",
            "      ResidualAdd-67             [-1, 197, 768]               0\n",
            "        LayerNorm-68             [-1, 197, 768]           1,536\n",
            "           Linear-69             [-1, 197, 768]         590,592\n",
            "           Linear-70             [-1, 197, 768]         590,592\n",
            "           Linear-71             [-1, 197, 768]         590,592\n",
            "          Dropout-72          [-1, 8, 197, 197]               0\n",
            "           Linear-73             [-1, 197, 768]         590,592\n",
            "MultiHeadAttention-74             [-1, 197, 768]               0\n",
            "          Dropout-75             [-1, 197, 768]               0\n",
            "      ResidualAdd-76             [-1, 197, 768]               0\n",
            "        LayerNorm-77             [-1, 197, 768]           1,536\n",
            "           Linear-78            [-1, 197, 3072]       2,362,368\n",
            "             GELU-79            [-1, 197, 3072]               0\n",
            "          Dropout-80            [-1, 197, 3072]               0\n",
            "           Linear-81             [-1, 197, 768]       2,360,064\n",
            "          Dropout-82             [-1, 197, 768]               0\n",
            "      ResidualAdd-83             [-1, 197, 768]               0\n",
            "        LayerNorm-84             [-1, 197, 768]           1,536\n",
            "           Linear-85             [-1, 197, 768]         590,592\n",
            "           Linear-86             [-1, 197, 768]         590,592\n",
            "           Linear-87             [-1, 197, 768]         590,592\n",
            "          Dropout-88          [-1, 8, 197, 197]               0\n",
            "           Linear-89             [-1, 197, 768]         590,592\n",
            "MultiHeadAttention-90             [-1, 197, 768]               0\n",
            "          Dropout-91             [-1, 197, 768]               0\n",
            "      ResidualAdd-92             [-1, 197, 768]               0\n",
            "        LayerNorm-93             [-1, 197, 768]           1,536\n",
            "           Linear-94            [-1, 197, 3072]       2,362,368\n",
            "             GELU-95            [-1, 197, 3072]               0\n",
            "          Dropout-96            [-1, 197, 3072]               0\n",
            "           Linear-97             [-1, 197, 768]       2,360,064\n",
            "          Dropout-98             [-1, 197, 768]               0\n",
            "      ResidualAdd-99             [-1, 197, 768]               0\n",
            "       LayerNorm-100             [-1, 197, 768]           1,536\n",
            "          Linear-101             [-1, 197, 768]         590,592\n",
            "          Linear-102             [-1, 197, 768]         590,592\n",
            "          Linear-103             [-1, 197, 768]         590,592\n",
            "         Dropout-104          [-1, 8, 197, 197]               0\n",
            "          Linear-105             [-1, 197, 768]         590,592\n",
            "MultiHeadAttention-106             [-1, 197, 768]               0\n",
            "         Dropout-107             [-1, 197, 768]               0\n",
            "     ResidualAdd-108             [-1, 197, 768]               0\n",
            "       LayerNorm-109             [-1, 197, 768]           1,536\n",
            "          Linear-110            [-1, 197, 3072]       2,362,368\n",
            "            GELU-111            [-1, 197, 3072]               0\n",
            "         Dropout-112            [-1, 197, 3072]               0\n",
            "          Linear-113             [-1, 197, 768]       2,360,064\n",
            "         Dropout-114             [-1, 197, 768]               0\n",
            "     ResidualAdd-115             [-1, 197, 768]               0\n",
            "       LayerNorm-116             [-1, 197, 768]           1,536\n",
            "          Linear-117             [-1, 197, 768]         590,592\n",
            "          Linear-118             [-1, 197, 768]         590,592\n",
            "          Linear-119             [-1, 197, 768]         590,592\n",
            "         Dropout-120          [-1, 8, 197, 197]               0\n",
            "          Linear-121             [-1, 197, 768]         590,592\n",
            "MultiHeadAttention-122             [-1, 197, 768]               0\n",
            "         Dropout-123             [-1, 197, 768]               0\n",
            "     ResidualAdd-124             [-1, 197, 768]               0\n",
            "       LayerNorm-125             [-1, 197, 768]           1,536\n",
            "          Linear-126            [-1, 197, 3072]       2,362,368\n",
            "            GELU-127            [-1, 197, 3072]               0\n",
            "         Dropout-128            [-1, 197, 3072]               0\n",
            "          Linear-129             [-1, 197, 768]       2,360,064\n",
            "         Dropout-130             [-1, 197, 768]               0\n",
            "     ResidualAdd-131             [-1, 197, 768]               0\n",
            "       LayerNorm-132             [-1, 197, 768]           1,536\n",
            "          Linear-133             [-1, 197, 768]         590,592\n",
            "          Linear-134             [-1, 197, 768]         590,592\n",
            "          Linear-135             [-1, 197, 768]         590,592\n",
            "         Dropout-136          [-1, 8, 197, 197]               0\n",
            "          Linear-137             [-1, 197, 768]         590,592\n",
            "MultiHeadAttention-138             [-1, 197, 768]               0\n",
            "         Dropout-139             [-1, 197, 768]               0\n",
            "     ResidualAdd-140             [-1, 197, 768]               0\n",
            "       LayerNorm-141             [-1, 197, 768]           1,536\n",
            "          Linear-142            [-1, 197, 3072]       2,362,368\n",
            "            GELU-143            [-1, 197, 3072]               0\n",
            "         Dropout-144            [-1, 197, 3072]               0\n",
            "          Linear-145             [-1, 197, 768]       2,360,064\n",
            "         Dropout-146             [-1, 197, 768]               0\n",
            "     ResidualAdd-147             [-1, 197, 768]               0\n",
            "       LayerNorm-148             [-1, 197, 768]           1,536\n",
            "          Linear-149             [-1, 197, 768]         590,592\n",
            "          Linear-150             [-1, 197, 768]         590,592\n",
            "          Linear-151             [-1, 197, 768]         590,592\n",
            "         Dropout-152          [-1, 8, 197, 197]               0\n",
            "          Linear-153             [-1, 197, 768]         590,592\n",
            "MultiHeadAttention-154             [-1, 197, 768]               0\n",
            "         Dropout-155             [-1, 197, 768]               0\n",
            "     ResidualAdd-156             [-1, 197, 768]               0\n",
            "       LayerNorm-157             [-1, 197, 768]           1,536\n",
            "          Linear-158            [-1, 197, 3072]       2,362,368\n",
            "            GELU-159            [-1, 197, 3072]               0\n",
            "         Dropout-160            [-1, 197, 3072]               0\n",
            "          Linear-161             [-1, 197, 768]       2,360,064\n",
            "         Dropout-162             [-1, 197, 768]               0\n",
            "     ResidualAdd-163             [-1, 197, 768]               0\n",
            "       LayerNorm-164             [-1, 197, 768]           1,536\n",
            "          Linear-165             [-1, 197, 768]         590,592\n",
            "          Linear-166             [-1, 197, 768]         590,592\n",
            "          Linear-167             [-1, 197, 768]         590,592\n",
            "         Dropout-168          [-1, 8, 197, 197]               0\n",
            "          Linear-169             [-1, 197, 768]         590,592\n",
            "MultiHeadAttention-170             [-1, 197, 768]               0\n",
            "         Dropout-171             [-1, 197, 768]               0\n",
            "     ResidualAdd-172             [-1, 197, 768]               0\n",
            "       LayerNorm-173             [-1, 197, 768]           1,536\n",
            "          Linear-174            [-1, 197, 3072]       2,362,368\n",
            "            GELU-175            [-1, 197, 3072]               0\n",
            "         Dropout-176            [-1, 197, 3072]               0\n",
            "          Linear-177             [-1, 197, 768]       2,360,064\n",
            "         Dropout-178             [-1, 197, 768]               0\n",
            "     ResidualAdd-179             [-1, 197, 768]               0\n",
            "       LayerNorm-180             [-1, 197, 768]           1,536\n",
            "          Linear-181             [-1, 197, 768]         590,592\n",
            "          Linear-182             [-1, 197, 768]         590,592\n",
            "          Linear-183             [-1, 197, 768]         590,592\n",
            "         Dropout-184          [-1, 8, 197, 197]               0\n",
            "          Linear-185             [-1, 197, 768]         590,592\n",
            "MultiHeadAttention-186             [-1, 197, 768]               0\n",
            "         Dropout-187             [-1, 197, 768]               0\n",
            "     ResidualAdd-188             [-1, 197, 768]               0\n",
            "       LayerNorm-189             [-1, 197, 768]           1,536\n",
            "          Linear-190            [-1, 197, 3072]       2,362,368\n",
            "            GELU-191            [-1, 197, 3072]               0\n",
            "         Dropout-192            [-1, 197, 3072]               0\n",
            "          Linear-193             [-1, 197, 768]       2,360,064\n",
            "         Dropout-194             [-1, 197, 768]               0\n",
            "     ResidualAdd-195             [-1, 197, 768]               0\n",
            "          Reduce-196                  [-1, 768]               0\n",
            "       LayerNorm-197                  [-1, 768]           1,536\n",
            "          Linear-198                 [-1, 1000]         769,000\n",
            "================================================================\n",
            "Total params: 86,415,592\n",
            "Trainable params: 86,415,592\n",
            "Non-trainable params: 0\n",
            "----------------------------------------------------------------\n",
            "Input size (MB): 0.57\n",
            "Forward/backward pass size (MB): 364.33\n",
            "Params size (MB): 329.65\n",
            "Estimated Total Size (MB): 694.56\n",
            "----------------------------------------------------------------\n"
          ]
        }
      ]
    },
    {
      "cell_type": "markdown",
      "source": [
        "## CIFAR10"
      ],
      "metadata": {
        "id": "1rrZJ4K0siXw"
      }
    },
    {
      "cell_type": "code",
      "source": [
        "! pip install --quiet pytorch-lightning==1.7.7 torchmetrics==0.11.0 lightning-bolts==0.6.0"
      ],
      "metadata": {
        "colab": {
          "base_uri": "https://localhost:8080/"
        },
        "id": "hf0lzh1_sxX0",
        "outputId": "6efd011b-32e9-42d1-ca5a-f31d4d6cc363"
      },
      "execution_count": 39,
      "outputs": [
        {
          "output_type": "stream",
          "name": "stdout",
          "text": [
            "\u001b[2K     \u001b[90m━━━━━━━━━━━━━━━━━━━━━━━━━━━━━━━━━━━━━━\u001b[0m \u001b[32m708.1/708.1 KB\u001b[0m \u001b[31m44.6 MB/s\u001b[0m eta \u001b[36m0:00:00\u001b[0m\n",
            "\u001b[2K     \u001b[90m━━━━━━━━━━━━━━━━━━━━━━━━━━━━━━━━━━━━━━\u001b[0m \u001b[32m512.4/512.4 KB\u001b[0m \u001b[31m30.9 MB/s\u001b[0m eta \u001b[36m0:00:00\u001b[0m\n",
            "\u001b[2K     \u001b[90m━━━━━━━━━━━━━━━━━━━━━━━━━━━━━━━━━━━━━━\u001b[0m \u001b[32m331.8/331.8 KB\u001b[0m \u001b[31m34.8 MB/s\u001b[0m eta \u001b[36m0:00:00\u001b[0m\n",
            "\u001b[?25h"
          ]
        }
      ]
    },
    {
      "cell_type": "code",
      "source": [
        "from pl_bolts.datamodules import CIFAR10DataModule\n",
        "from torch.optim.lr_scheduler import OneCycleLR\n",
        "from pl_bolts.transforms.dataset_normalizations import cifar10_normalization\n",
        "\n",
        "import pytorch_lightning as pl\n",
        "\n",
        "from torchmetrics.functional import accuracy"
      ],
      "metadata": {
        "id": "iYcI1g4ksV15"
      },
      "execution_count": 43,
      "outputs": []
    },
    {
      "cell_type": "code",
      "source": [
        "config = {\n",
        "    \"data_dir\": \".\",\n",
        "    \"batch_size\": 256,\n",
        "    \"num_workers\": 2,\n",
        "    \"num_classes\": 10,\n",
        "    \"lr\": 1e-4,\n",
        "    \"max_lr\": 1e-3,\n",
        "}"
      ],
      "metadata": {
        "id": "yVp-8Q4RvTYs"
      },
      "execution_count": 110,
      "outputs": []
    },
    {
      "cell_type": "code",
      "source": [
        "train_transforms = T.Compose(\n",
        "    [\n",
        "        T.RandomCrop(32, padding=4),\n",
        "        T.RandomHorizontalFlip(),\n",
        "        T.ToTensor(),\n",
        "        cifar10_normalization(),\n",
        "    ]\n",
        ")\n",
        "\n",
        "test_transforms = T.Compose(\n",
        "    [\n",
        "        T.ToTensor(),\n",
        "        cifar10_normalization(),\n",
        "    ]\n",
        ")\n",
        "\n",
        "cifar10_dm = CIFAR10DataModule(\n",
        "    data_dir=config[\"data_dir\"],\n",
        "    batch_size=config[\"batch_size\"],\n",
        "    num_workers=config[\"num_workers\"],\n",
        "    train_transforms=train_transforms,\n",
        "    test_transforms=test_transforms,\n",
        "    val_transforms=test_transforms,\n",
        ")"
      ],
      "metadata": {
        "id": "tWHAYidFtu6V"
      },
      "execution_count": 111,
      "outputs": []
    },
    {
      "cell_type": "code",
      "source": [
        "ViT(\n",
        "    in_channels=3,\n",
        "    patch_size=4,\n",
        "    emb_size=128,\n",
        "    img_size=32,\n",
        "    depth=12,\n",
        "    num_classes=10\n",
        ")"
      ],
      "metadata": {
        "colab": {
          "base_uri": "https://localhost:8080/"
        },
        "id": "Fgwo_dvGwOOl",
        "outputId": "bdf45afe-775a-4a02-bfe4-fcb09c92edb4"
      },
      "execution_count": 112,
      "outputs": [
        {
          "output_type": "execute_result",
          "data": {
            "text/plain": [
              "ViT(\n",
              "  (0): PatchEmbedding(\n",
              "    (projection): Sequential(\n",
              "      (0): Rearrange('b c (h s1) (w s2) -> b (h w) (s1 s2 c)', s1=4, s2=4)\n",
              "      (1): Linear(in_features=48, out_features=128, bias=True)\n",
              "    )\n",
              "  )\n",
              "  (1): TransformerEncoder(\n",
              "    (0): TransformerEncoderBlock(\n",
              "      (0): ResidualAdd(\n",
              "        (fn): Sequential(\n",
              "          (0): LayerNorm((128,), eps=1e-05, elementwise_affine=True)\n",
              "          (1): MultiHeadAttention(\n",
              "            (query): Linear(in_features=128, out_features=128, bias=True)\n",
              "            (key): Linear(in_features=128, out_features=128, bias=True)\n",
              "            (value): Linear(in_features=128, out_features=128, bias=True)\n",
              "            (projection): Linear(in_features=128, out_features=128, bias=True)\n",
              "            (attn_dropout): Dropout(p=0, inplace=False)\n",
              "          )\n",
              "          (2): Dropout(p=0.0, inplace=False)\n",
              "        )\n",
              "      )\n",
              "      (1): ResidualAdd(\n",
              "        (fn): Sequential(\n",
              "          (0): LayerNorm((128,), eps=1e-05, elementwise_affine=True)\n",
              "          (1): Sequential(\n",
              "            (0): Linear(in_features=128, out_features=512, bias=True)\n",
              "            (1): GELU(approximate='none')\n",
              "            (2): Dropout(p=0, inplace=False)\n",
              "            (3): Linear(in_features=512, out_features=128, bias=True)\n",
              "          )\n",
              "          (2): Dropout(p=0.0, inplace=False)\n",
              "        )\n",
              "      )\n",
              "    )\n",
              "    (1): TransformerEncoderBlock(\n",
              "      (0): ResidualAdd(\n",
              "        (fn): Sequential(\n",
              "          (0): LayerNorm((128,), eps=1e-05, elementwise_affine=True)\n",
              "          (1): MultiHeadAttention(\n",
              "            (query): Linear(in_features=128, out_features=128, bias=True)\n",
              "            (key): Linear(in_features=128, out_features=128, bias=True)\n",
              "            (value): Linear(in_features=128, out_features=128, bias=True)\n",
              "            (projection): Linear(in_features=128, out_features=128, bias=True)\n",
              "            (attn_dropout): Dropout(p=0, inplace=False)\n",
              "          )\n",
              "          (2): Dropout(p=0.0, inplace=False)\n",
              "        )\n",
              "      )\n",
              "      (1): ResidualAdd(\n",
              "        (fn): Sequential(\n",
              "          (0): LayerNorm((128,), eps=1e-05, elementwise_affine=True)\n",
              "          (1): Sequential(\n",
              "            (0): Linear(in_features=128, out_features=512, bias=True)\n",
              "            (1): GELU(approximate='none')\n",
              "            (2): Dropout(p=0, inplace=False)\n",
              "            (3): Linear(in_features=512, out_features=128, bias=True)\n",
              "          )\n",
              "          (2): Dropout(p=0.0, inplace=False)\n",
              "        )\n",
              "      )\n",
              "    )\n",
              "    (2): TransformerEncoderBlock(\n",
              "      (0): ResidualAdd(\n",
              "        (fn): Sequential(\n",
              "          (0): LayerNorm((128,), eps=1e-05, elementwise_affine=True)\n",
              "          (1): MultiHeadAttention(\n",
              "            (query): Linear(in_features=128, out_features=128, bias=True)\n",
              "            (key): Linear(in_features=128, out_features=128, bias=True)\n",
              "            (value): Linear(in_features=128, out_features=128, bias=True)\n",
              "            (projection): Linear(in_features=128, out_features=128, bias=True)\n",
              "            (attn_dropout): Dropout(p=0, inplace=False)\n",
              "          )\n",
              "          (2): Dropout(p=0.0, inplace=False)\n",
              "        )\n",
              "      )\n",
              "      (1): ResidualAdd(\n",
              "        (fn): Sequential(\n",
              "          (0): LayerNorm((128,), eps=1e-05, elementwise_affine=True)\n",
              "          (1): Sequential(\n",
              "            (0): Linear(in_features=128, out_features=512, bias=True)\n",
              "            (1): GELU(approximate='none')\n",
              "            (2): Dropout(p=0, inplace=False)\n",
              "            (3): Linear(in_features=512, out_features=128, bias=True)\n",
              "          )\n",
              "          (2): Dropout(p=0.0, inplace=False)\n",
              "        )\n",
              "      )\n",
              "    )\n",
              "    (3): TransformerEncoderBlock(\n",
              "      (0): ResidualAdd(\n",
              "        (fn): Sequential(\n",
              "          (0): LayerNorm((128,), eps=1e-05, elementwise_affine=True)\n",
              "          (1): MultiHeadAttention(\n",
              "            (query): Linear(in_features=128, out_features=128, bias=True)\n",
              "            (key): Linear(in_features=128, out_features=128, bias=True)\n",
              "            (value): Linear(in_features=128, out_features=128, bias=True)\n",
              "            (projection): Linear(in_features=128, out_features=128, bias=True)\n",
              "            (attn_dropout): Dropout(p=0, inplace=False)\n",
              "          )\n",
              "          (2): Dropout(p=0.0, inplace=False)\n",
              "        )\n",
              "      )\n",
              "      (1): ResidualAdd(\n",
              "        (fn): Sequential(\n",
              "          (0): LayerNorm((128,), eps=1e-05, elementwise_affine=True)\n",
              "          (1): Sequential(\n",
              "            (0): Linear(in_features=128, out_features=512, bias=True)\n",
              "            (1): GELU(approximate='none')\n",
              "            (2): Dropout(p=0, inplace=False)\n",
              "            (3): Linear(in_features=512, out_features=128, bias=True)\n",
              "          )\n",
              "          (2): Dropout(p=0.0, inplace=False)\n",
              "        )\n",
              "      )\n",
              "    )\n",
              "    (4): TransformerEncoderBlock(\n",
              "      (0): ResidualAdd(\n",
              "        (fn): Sequential(\n",
              "          (0): LayerNorm((128,), eps=1e-05, elementwise_affine=True)\n",
              "          (1): MultiHeadAttention(\n",
              "            (query): Linear(in_features=128, out_features=128, bias=True)\n",
              "            (key): Linear(in_features=128, out_features=128, bias=True)\n",
              "            (value): Linear(in_features=128, out_features=128, bias=True)\n",
              "            (projection): Linear(in_features=128, out_features=128, bias=True)\n",
              "            (attn_dropout): Dropout(p=0, inplace=False)\n",
              "          )\n",
              "          (2): Dropout(p=0.0, inplace=False)\n",
              "        )\n",
              "      )\n",
              "      (1): ResidualAdd(\n",
              "        (fn): Sequential(\n",
              "          (0): LayerNorm((128,), eps=1e-05, elementwise_affine=True)\n",
              "          (1): Sequential(\n",
              "            (0): Linear(in_features=128, out_features=512, bias=True)\n",
              "            (1): GELU(approximate='none')\n",
              "            (2): Dropout(p=0, inplace=False)\n",
              "            (3): Linear(in_features=512, out_features=128, bias=True)\n",
              "          )\n",
              "          (2): Dropout(p=0.0, inplace=False)\n",
              "        )\n",
              "      )\n",
              "    )\n",
              "    (5): TransformerEncoderBlock(\n",
              "      (0): ResidualAdd(\n",
              "        (fn): Sequential(\n",
              "          (0): LayerNorm((128,), eps=1e-05, elementwise_affine=True)\n",
              "          (1): MultiHeadAttention(\n",
              "            (query): Linear(in_features=128, out_features=128, bias=True)\n",
              "            (key): Linear(in_features=128, out_features=128, bias=True)\n",
              "            (value): Linear(in_features=128, out_features=128, bias=True)\n",
              "            (projection): Linear(in_features=128, out_features=128, bias=True)\n",
              "            (attn_dropout): Dropout(p=0, inplace=False)\n",
              "          )\n",
              "          (2): Dropout(p=0.0, inplace=False)\n",
              "        )\n",
              "      )\n",
              "      (1): ResidualAdd(\n",
              "        (fn): Sequential(\n",
              "          (0): LayerNorm((128,), eps=1e-05, elementwise_affine=True)\n",
              "          (1): Sequential(\n",
              "            (0): Linear(in_features=128, out_features=512, bias=True)\n",
              "            (1): GELU(approximate='none')\n",
              "            (2): Dropout(p=0, inplace=False)\n",
              "            (3): Linear(in_features=512, out_features=128, bias=True)\n",
              "          )\n",
              "          (2): Dropout(p=0.0, inplace=False)\n",
              "        )\n",
              "      )\n",
              "    )\n",
              "    (6): TransformerEncoderBlock(\n",
              "      (0): ResidualAdd(\n",
              "        (fn): Sequential(\n",
              "          (0): LayerNorm((128,), eps=1e-05, elementwise_affine=True)\n",
              "          (1): MultiHeadAttention(\n",
              "            (query): Linear(in_features=128, out_features=128, bias=True)\n",
              "            (key): Linear(in_features=128, out_features=128, bias=True)\n",
              "            (value): Linear(in_features=128, out_features=128, bias=True)\n",
              "            (projection): Linear(in_features=128, out_features=128, bias=True)\n",
              "            (attn_dropout): Dropout(p=0, inplace=False)\n",
              "          )\n",
              "          (2): Dropout(p=0.0, inplace=False)\n",
              "        )\n",
              "      )\n",
              "      (1): ResidualAdd(\n",
              "        (fn): Sequential(\n",
              "          (0): LayerNorm((128,), eps=1e-05, elementwise_affine=True)\n",
              "          (1): Sequential(\n",
              "            (0): Linear(in_features=128, out_features=512, bias=True)\n",
              "            (1): GELU(approximate='none')\n",
              "            (2): Dropout(p=0, inplace=False)\n",
              "            (3): Linear(in_features=512, out_features=128, bias=True)\n",
              "          )\n",
              "          (2): Dropout(p=0.0, inplace=False)\n",
              "        )\n",
              "      )\n",
              "    )\n",
              "    (7): TransformerEncoderBlock(\n",
              "      (0): ResidualAdd(\n",
              "        (fn): Sequential(\n",
              "          (0): LayerNorm((128,), eps=1e-05, elementwise_affine=True)\n",
              "          (1): MultiHeadAttention(\n",
              "            (query): Linear(in_features=128, out_features=128, bias=True)\n",
              "            (key): Linear(in_features=128, out_features=128, bias=True)\n",
              "            (value): Linear(in_features=128, out_features=128, bias=True)\n",
              "            (projection): Linear(in_features=128, out_features=128, bias=True)\n",
              "            (attn_dropout): Dropout(p=0, inplace=False)\n",
              "          )\n",
              "          (2): Dropout(p=0.0, inplace=False)\n",
              "        )\n",
              "      )\n",
              "      (1): ResidualAdd(\n",
              "        (fn): Sequential(\n",
              "          (0): LayerNorm((128,), eps=1e-05, elementwise_affine=True)\n",
              "          (1): Sequential(\n",
              "            (0): Linear(in_features=128, out_features=512, bias=True)\n",
              "            (1): GELU(approximate='none')\n",
              "            (2): Dropout(p=0, inplace=False)\n",
              "            (3): Linear(in_features=512, out_features=128, bias=True)\n",
              "          )\n",
              "          (2): Dropout(p=0.0, inplace=False)\n",
              "        )\n",
              "      )\n",
              "    )\n",
              "    (8): TransformerEncoderBlock(\n",
              "      (0): ResidualAdd(\n",
              "        (fn): Sequential(\n",
              "          (0): LayerNorm((128,), eps=1e-05, elementwise_affine=True)\n",
              "          (1): MultiHeadAttention(\n",
              "            (query): Linear(in_features=128, out_features=128, bias=True)\n",
              "            (key): Linear(in_features=128, out_features=128, bias=True)\n",
              "            (value): Linear(in_features=128, out_features=128, bias=True)\n",
              "            (projection): Linear(in_features=128, out_features=128, bias=True)\n",
              "            (attn_dropout): Dropout(p=0, inplace=False)\n",
              "          )\n",
              "          (2): Dropout(p=0.0, inplace=False)\n",
              "        )\n",
              "      )\n",
              "      (1): ResidualAdd(\n",
              "        (fn): Sequential(\n",
              "          (0): LayerNorm((128,), eps=1e-05, elementwise_affine=True)\n",
              "          (1): Sequential(\n",
              "            (0): Linear(in_features=128, out_features=512, bias=True)\n",
              "            (1): GELU(approximate='none')\n",
              "            (2): Dropout(p=0, inplace=False)\n",
              "            (3): Linear(in_features=512, out_features=128, bias=True)\n",
              "          )\n",
              "          (2): Dropout(p=0.0, inplace=False)\n",
              "        )\n",
              "      )\n",
              "    )\n",
              "    (9): TransformerEncoderBlock(\n",
              "      (0): ResidualAdd(\n",
              "        (fn): Sequential(\n",
              "          (0): LayerNorm((128,), eps=1e-05, elementwise_affine=True)\n",
              "          (1): MultiHeadAttention(\n",
              "            (query): Linear(in_features=128, out_features=128, bias=True)\n",
              "            (key): Linear(in_features=128, out_features=128, bias=True)\n",
              "            (value): Linear(in_features=128, out_features=128, bias=True)\n",
              "            (projection): Linear(in_features=128, out_features=128, bias=True)\n",
              "            (attn_dropout): Dropout(p=0, inplace=False)\n",
              "          )\n",
              "          (2): Dropout(p=0.0, inplace=False)\n",
              "        )\n",
              "      )\n",
              "      (1): ResidualAdd(\n",
              "        (fn): Sequential(\n",
              "          (0): LayerNorm((128,), eps=1e-05, elementwise_affine=True)\n",
              "          (1): Sequential(\n",
              "            (0): Linear(in_features=128, out_features=512, bias=True)\n",
              "            (1): GELU(approximate='none')\n",
              "            (2): Dropout(p=0, inplace=False)\n",
              "            (3): Linear(in_features=512, out_features=128, bias=True)\n",
              "          )\n",
              "          (2): Dropout(p=0.0, inplace=False)\n",
              "        )\n",
              "      )\n",
              "    )\n",
              "    (10): TransformerEncoderBlock(\n",
              "      (0): ResidualAdd(\n",
              "        (fn): Sequential(\n",
              "          (0): LayerNorm((128,), eps=1e-05, elementwise_affine=True)\n",
              "          (1): MultiHeadAttention(\n",
              "            (query): Linear(in_features=128, out_features=128, bias=True)\n",
              "            (key): Linear(in_features=128, out_features=128, bias=True)\n",
              "            (value): Linear(in_features=128, out_features=128, bias=True)\n",
              "            (projection): Linear(in_features=128, out_features=128, bias=True)\n",
              "            (attn_dropout): Dropout(p=0, inplace=False)\n",
              "          )\n",
              "          (2): Dropout(p=0.0, inplace=False)\n",
              "        )\n",
              "      )\n",
              "      (1): ResidualAdd(\n",
              "        (fn): Sequential(\n",
              "          (0): LayerNorm((128,), eps=1e-05, elementwise_affine=True)\n",
              "          (1): Sequential(\n",
              "            (0): Linear(in_features=128, out_features=512, bias=True)\n",
              "            (1): GELU(approximate='none')\n",
              "            (2): Dropout(p=0, inplace=False)\n",
              "            (3): Linear(in_features=512, out_features=128, bias=True)\n",
              "          )\n",
              "          (2): Dropout(p=0.0, inplace=False)\n",
              "        )\n",
              "      )\n",
              "    )\n",
              "    (11): TransformerEncoderBlock(\n",
              "      (0): ResidualAdd(\n",
              "        (fn): Sequential(\n",
              "          (0): LayerNorm((128,), eps=1e-05, elementwise_affine=True)\n",
              "          (1): MultiHeadAttention(\n",
              "            (query): Linear(in_features=128, out_features=128, bias=True)\n",
              "            (key): Linear(in_features=128, out_features=128, bias=True)\n",
              "            (value): Linear(in_features=128, out_features=128, bias=True)\n",
              "            (projection): Linear(in_features=128, out_features=128, bias=True)\n",
              "            (attn_dropout): Dropout(p=0, inplace=False)\n",
              "          )\n",
              "          (2): Dropout(p=0.0, inplace=False)\n",
              "        )\n",
              "      )\n",
              "      (1): ResidualAdd(\n",
              "        (fn): Sequential(\n",
              "          (0): LayerNorm((128,), eps=1e-05, elementwise_affine=True)\n",
              "          (1): Sequential(\n",
              "            (0): Linear(in_features=128, out_features=512, bias=True)\n",
              "            (1): GELU(approximate='none')\n",
              "            (2): Dropout(p=0, inplace=False)\n",
              "            (3): Linear(in_features=512, out_features=128, bias=True)\n",
              "          )\n",
              "          (2): Dropout(p=0.0, inplace=False)\n",
              "        )\n",
              "      )\n",
              "    )\n",
              "  )\n",
              "  (2): ClassificationHead(\n",
              "    (0): Reduce('batch_size seq_len emb_dim -> batch_size emb_dim', 'mean')\n",
              "    (1): LayerNorm((128,), eps=1e-05, elementwise_affine=True)\n",
              "    (2): Linear(in_features=128, out_features=10, bias=True)\n",
              "  )\n",
              ")"
            ]
          },
          "metadata": {},
          "execution_count": 112
        }
      ]
    },
    {
      "cell_type": "code",
      "source": [
        "ViT(\n",
        "    in_channels=3,\n",
        "    patch_size=4,\n",
        "    emb_size=128,\n",
        "    img_size=32,\n",
        "    depth=12,\n",
        "    num_classes=10\n",
        ")(torch.randn(1, 3, 32, 32))"
      ],
      "metadata": {
        "colab": {
          "base_uri": "https://localhost:8080/"
        },
        "id": "XntFtY7Tvv0m",
        "outputId": "7a0ee610-0bd7-4a9d-8d08-d6ad832c92ba"
      },
      "execution_count": 113,
      "outputs": [
        {
          "output_type": "execute_result",
          "data": {
            "text/plain": [
              "tensor([[ 0.4556, -0.0425, -0.1020, -0.0155, -0.4003,  0.8658,  0.5972,  0.4019,\n",
              "          0.0239,  0.2900]], grad_fn=<AddmmBackward0>)"
            ]
          },
          "metadata": {},
          "execution_count": 113
        }
      ]
    },
    {
      "cell_type": "code",
      "source": [
        "class LitViT(pl.LightningModule):\n",
        "    def __init__(self, lr=0.05):\n",
        "        super().__init__()\n",
        "\n",
        "        self.save_hyperparameters()\n",
        "        self.model = ViT(\n",
        "            in_channels=3,\n",
        "            patch_size=4,\n",
        "            emb_size=128,\n",
        "            img_size=32,\n",
        "            depth=12,\n",
        "            num_classes=10\n",
        "        )\n",
        "\n",
        "    def forward(self, x):\n",
        "        out = self.model(x)\n",
        "        return F.log_softmax(out, dim=1)\n",
        "\n",
        "    def training_step(self, batch, batch_idx):\n",
        "        x, y = batch\n",
        "        logits = self(x)\n",
        "        loss = F.nll_loss(logits, y)\n",
        "        self.log(\"train_loss\", loss)\n",
        "        return loss\n",
        "\n",
        "    def evaluate(self, batch, stage=None):\n",
        "        x, y = batch\n",
        "        logits = self(x)\n",
        "        loss = F.nll_loss(logits, y)\n",
        "        preds = torch.argmax(logits, dim=1)\n",
        "        acc = accuracy(preds, y, task=\"multiclass\", num_classes=config[\"num_classes\"])\n",
        "\n",
        "        if stage:\n",
        "            self.log(f\"{stage}_loss\", loss, prog_bar=True)\n",
        "            self.log(f\"{stage}_acc\", acc, prog_bar=True)\n",
        "\n",
        "    def validation_step(self, batch, batch_idx):\n",
        "        self.evaluate(batch, \"val\")\n",
        "\n",
        "    def test_step(self, batch, batch_idx):\n",
        "        self.evaluate(batch, \"test\")\n",
        "\n",
        "    def configure_optimizers(self):\n",
        "        optimizer = torch.optim.Adam(\n",
        "            self.parameters(),\n",
        "            lr=self.hparams.lr,\n",
        "        )\n",
        "        steps_per_epoch = 45_000 // config[\"batch_size\"]\n",
        "        scheduler_dict = {\n",
        "            \"scheduler\": OneCycleLR(\n",
        "                optimizer,\n",
        "                max_lr=config[\"max_lr\"],\n",
        "                epochs=self.trainer.max_epochs,\n",
        "                steps_per_epoch=steps_per_epoch,\n",
        "            ),\n",
        "            \"interval\": \"step\",\n",
        "        }\n",
        "        return {\"optimizer\": optimizer, \"lr_scheduler\": scheduler_dict}"
      ],
      "metadata": {
        "id": "aRjjFRfKu-5l"
      },
      "execution_count": 118,
      "outputs": []
    },
    {
      "cell_type": "code",
      "source": [
        "model = LitViT(\n",
        "    lr=config[\"lr\"]\n",
        ")"
      ],
      "metadata": {
        "id": "EBzeeFu5xnBA"
      },
      "execution_count": 119,
      "outputs": []
    },
    {
      "cell_type": "code",
      "source": [
        "trainer = pl.Trainer(\n",
        "    max_epochs=30,\n",
        "    accelerator=\"auto\",\n",
        ")"
      ],
      "metadata": {
        "colab": {
          "base_uri": "https://localhost:8080/"
        },
        "id": "DsT5ollBxrlD",
        "outputId": "814bf33a-2946-4cb2-aa2d-f0e68bc31a56"
      },
      "execution_count": 120,
      "outputs": [
        {
          "output_type": "stream",
          "name": "stderr",
          "text": [
            "INFO:pytorch_lightning.utilities.rank_zero:GPU available: True (cuda), used: True\n",
            "INFO:pytorch_lightning.utilities.rank_zero:TPU available: False, using: 0 TPU cores\n",
            "INFO:pytorch_lightning.utilities.rank_zero:IPU available: False, using: 0 IPUs\n",
            "INFO:pytorch_lightning.utilities.rank_zero:HPU available: False, using: 0 HPUs\n"
          ]
        }
      ]
    },
    {
      "cell_type": "code",
      "source": [
        "trainer.fit(model, cifar10_dm)"
      ],
      "metadata": {
        "colab": {
          "base_uri": "https://localhost:8080/",
          "height": 305,
          "referenced_widgets": [
            "7b4ea95dc4bb4ede9bd15861191048d1",
            "10c20d46a2a045ca8c4de4d0449bcc92",
            "09c95d2d1a5d45d0b74a7095fe802789",
            "800038f048ae4a19a0bddf1d2cc8d4f4",
            "38804a60b4ab4b42b566dcc5a79a4ea6",
            "860ffe8960be408d8f71a385536d6eab",
            "21d44eb6ae5843fea3f2804d8fd7bd54",
            "61b77318c03a4cfaa2880448cc9510db",
            "0a8407fe05444674bd1c9c6fae3b35da",
            "dda9f87dc2ce4d4fa3254cf5fd86a009",
            "7a1715af458c48ee84e83489b714678b"
          ]
        },
        "id": "cumTQ8z7xyZx",
        "outputId": "ce3a1cfc-296a-47e0-9304-a0fd4cb50cfc"
      },
      "execution_count": 124,
      "outputs": [
        {
          "output_type": "stream",
          "name": "stdout",
          "text": [
            "Files already downloaded and verified\n",
            "Files already downloaded and verified\n"
          ]
        },
        {
          "output_type": "stream",
          "name": "stderr",
          "text": [
            "/usr/local/lib/python3.8/dist-packages/pytorch_lightning/callbacks/model_checkpoint.py:616: UserWarning: Checkpoint directory /content/lightning_logs/version_10/checkpoints exists and is not empty.\n",
            "  rank_zero_warn(f\"Checkpoint directory {dirpath} exists and is not empty.\")\n",
            "INFO:pytorch_lightning.accelerators.cuda:LOCAL_RANK: 0 - CUDA_VISIBLE_DEVICES: [0]\n",
            "INFO:pytorch_lightning.callbacks.model_summary:\n",
            "  | Name  | Type | Params\n",
            "-------------------------------\n",
            "0 | model | ViT  | 2.4 M \n",
            "-------------------------------\n",
            "2.4 M     Trainable params\n",
            "0         Non-trainable params\n",
            "2.4 M     Total params\n",
            "9.582     Total estimated model params size (MB)\n"
          ]
        },
        {
          "output_type": "display_data",
          "data": {
            "text/plain": [
              "Sanity Checking: 0it [00:00, ?it/s]"
            ],
            "application/vnd.jupyter.widget-view+json": {
              "version_major": 2,
              "version_minor": 0,
              "model_id": "7b4ea95dc4bb4ede9bd15861191048d1"
            }
          },
          "metadata": {}
        },
        {
          "output_type": "stream",
          "name": "stderr",
          "text": [
            "INFO:pytorch_lightning.utilities.rank_zero:`Trainer.fit` stopped: `max_epochs=30` reached.\n"
          ]
        }
      ]
    },
    {
      "cell_type": "code",
      "source": [
        "trainer.test(model, datamodule=cifar10_dm)"
      ],
      "metadata": {
        "colab": {
          "base_uri": "https://localhost:8080/",
          "height": 248,
          "referenced_widgets": [
            "c01cfab78cff4366b20ed0a82515fb4a",
            "d00c474f834143cc8cdfb5ffd49af94e",
            "ad800bafb45e485a8592ab140aa3e476",
            "6e424c211fa449ea910867abb2b863ee",
            "886d47403cbb45f0bba39f136a0dc811",
            "c3f95e962c8b42289f77be460aeb4041",
            "2c103c1aba004cdd8ea59b96ecca97a1",
            "a32b23ac28624e6e8a33dc88da757ec1",
            "dcb94e76950a41aca243176dfa1c1ec7",
            "b1e734df46394e109e6884fced3b59bd",
            "a853fbd177014490824a8afe6e6683fc"
          ]
        },
        "id": "w-zyLluIxuV6",
        "outputId": "78e7d399-8d74-4104-a49d-36d65d726272"
      },
      "execution_count": 123,
      "outputs": [
        {
          "output_type": "stream",
          "name": "stdout",
          "text": [
            "Files already downloaded and verified\n",
            "Files already downloaded and verified\n"
          ]
        },
        {
          "output_type": "stream",
          "name": "stderr",
          "text": [
            "INFO:pytorch_lightning.accelerators.cuda:LOCAL_RANK: 0 - CUDA_VISIBLE_DEVICES: [0]\n"
          ]
        },
        {
          "output_type": "display_data",
          "data": {
            "text/plain": [
              "Testing: 0it [00:00, ?it/s]"
            ],
            "application/vnd.jupyter.widget-view+json": {
              "version_major": 2,
              "version_minor": 0,
              "model_id": "c01cfab78cff4366b20ed0a82515fb4a"
            }
          },
          "metadata": {}
        },
        {
          "output_type": "stream",
          "name": "stdout",
          "text": [
            "────────────────────────────────────────────────────────────────────────────────────────────────────────────────────────\n",
            "       Test metric             DataLoader 0\n",
            "────────────────────────────────────────────────────────────────────────────────────────────────────────────────────────\n",
            "        test_acc            0.7627999782562256\n",
            "        test_loss           0.6916049718856812\n",
            "────────────────────────────────────────────────────────────────────────────────────────────────────────────────────────\n"
          ]
        },
        {
          "output_type": "execute_result",
          "data": {
            "text/plain": [
              "[{'test_loss': 0.6916049718856812, 'test_acc': 0.7627999782562256}]"
            ]
          },
          "metadata": {},
          "execution_count": 123
        }
      ]
    },
    {
      "cell_type": "code",
      "source": [],
      "metadata": {
        "id": "d_-p0ytNyH39"
      },
      "execution_count": null,
      "outputs": []
    }
  ]
}